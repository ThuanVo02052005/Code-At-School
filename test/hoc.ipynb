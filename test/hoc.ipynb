{
 "cells": [
  {
   "cell_type": "code",
   "execution_count": 2,
   "metadata": {},
   "outputs": [
    {
     "name": "stdout",
     "output_type": "stream",
     "text": [
      "fly swin run\n",
      "go go  meomeo grumgrum\n"
     ]
    }
   ],
   "source": [
    "# create class \n",
    "# for exanple \n",
    "class Animal : \n",
    "    id = 1234 \n",
    "    name = \"moon\"\n",
    "    age = 1 \n",
    "    def move(self):\n",
    "        print(\"fly\", \"swin\", \"run\")\n",
    "    def speak(self):\n",
    "        print(\"go go \", \"meomeo\", \"grumgrum\")\n",
    "meo = Animal()\n",
    "meo.move()\n",
    "meo.speak()\n"
   ]
  },
  {
   "cell_type": "code",
   "execution_count": 6,
   "metadata": {},
   "outputs": [
    {
     "name": "stdout",
     "output_type": "stream",
     "text": [
      "giá trị cat.id: 1234\n",
      "giá trị cat.id: 1234\n",
      "giá trị cat.name: moon\n",
      "giá trị cat.age: 2\n"
     ]
    }
   ],
   "source": [
    "# access properties : truy cập các thuộc tính \n",
    "# tạo lớp animal \n",
    "class Animal : \n",
    "    id = 1234 \n",
    "    name = \"moon\"\n",
    "    age = 1 \n",
    "# tạo đối tượng tên cat \n",
    "cat = Animal()\n",
    "print(f\"giá trị cat.id: {cat.id}\")\n",
    "cat.id = 1234 \n",
    "print(f\"giá trị cat.id: {cat.id}\")\n",
    "cat.name = \"moon\"\n",
    "print(f\"giá trị cat.name: {cat.name}\")\n",
    "cat.age = 2\n",
    "print(f\"giá trị cat.age: {cat.age}\")"
   ]
  },
  {
   "cell_type": "code",
   "execution_count": 9,
   "metadata": {},
   "outputs": [
    {
     "name": "stdout",
     "output_type": "stream",
     "text": [
      "mã id:16622\n",
      "tên : hai\n",
      "tuổi: 6662\n"
     ]
    }
   ],
   "source": [
    "# access methods\n",
    "# creat class \n",
    "class Animal : \n",
    "    id = 1234 \n",
    "    name = \"moon\"\n",
    "    age = 1 \n",
    "    # Define method inputInfo()\n",
    "    # Enter information for the attributes\n",
    "    def inputInfo(self):\n",
    "        self.id = int(input(\"mời nhập vào id: \"))\n",
    "        self.name = input(\"mời nhập vào tên: \")\n",
    "        self.age = int(input(\"mời nhập vào tuổi: \"))\n",
    "    # Define method showInfo()\n",
    "    # print out the properties \n",
    "    def showInfo(self):\n",
    "        print(f\"mã id:{self.id}\")\n",
    "        print(f\"tên : {self.name}\")\n",
    "        print(f\"tuổi: {self.age}\")\n",
    "# creat oject \n",
    "cat = Animal()\n",
    "cat.inputInfo()\n",
    "cat.showInfo()\n"
   ]
  },
  {
   "cell_type": "code",
   "execution_count": 7,
   "metadata": {},
   "outputs": [
    {
     "name": "stdout",
     "output_type": "stream",
     "text": [
      "phương trình có 2 nghiệm phân biệt : (1.0, -2.0)\n"
     ]
    }
   ],
   "source": [
    "# gọi calling một phương thức \n",
    "import math \n",
    "class Phuongtrinhbac2():\n",
    "    a = 0 \n",
    "    b = 0 \n",
    "    c = 0 \n",
    "    def nhapHeSo(self):\n",
    "        self.a = float(input(\"nhập vào hệ số a : \"))\n",
    "        self.b = float(input(\"nhập vào hệ số b : \"))\n",
    "        self.c = float(input(\"nhập vào hệ số c:  \"))\n",
    "    def tinhBieuThucDelta(self): \n",
    "        return self.b * self.b - 4 * self.a *self.c\n",
    "    def tinhNghiem(self): \n",
    "        if(self.a == 0 ):\n",
    "            if(self.b == 0 ):\n",
    "                if(self.c == 0 ):\n",
    "                    print(\"phương tình có vô số nghiệm\")\n",
    "                else: \n",
    "                    print(\"phương tình vô nghiệm \")\n",
    "            else : \n",
    "                print(f\"phương trình có 1 nghiệm : {- self.c / self.b}\")\n",
    "        else : \n",
    "            delta = self.tinhBieuThucDelta() \n",
    "            if (delta > 0 ): \n",
    "                print(f\"phương trình có 2 nghiệm phân biệt : {(self.b - math.sqrt(delta))/(2 * self.a),(- self.b - math.sqrt(delta))/(2 * self.a)}\")\n",
    "            elif (delta == 0 ):\n",
    "                print(\"phương trình có 1 nghiệm duy nhất x1 = x2 = \", - self.b /(2 * self.a))\n",
    "            else : \n",
    "                print(\"phương trinh vô nghiệm\")\n",
    "\n",
    "objPTB2 = Phuongtrinhbac2()\n",
    "\n",
    "objPTB2.nhapHeSo()\n",
    "objPTB2.tinhNghiem()"
   ]
  },
  {
   "cell_type": "code",
   "execution_count": 4,
   "metadata": {},
   "outputs": [
    {
     "name": "stdout",
     "output_type": "stream",
     "text": [
      "ID:  5\n",
      "Name:  thuan\n",
      "Age: 56\n"
     ]
    }
   ],
   "source": [
    "# hàm tạo constructor \n",
    "class Animal : \n",
    "    # khai báo các thuộc tính trong hàm tạo \n",
    "    def __init__(self):\n",
    "        self.id = int(input(\"nhập vào id : \"))\n",
    "        self.name = input(\"nhập vào tên: \")\n",
    "        self.age = int(input(\"nhập vào tuổi: \"))\n",
    "cat = Animal()\n",
    "print(\"ID: \", cat.id)\n",
    "print(\"Name: \", cat.name)\n",
    "print(\"Age:\", cat.age)\n",
    "                             \n",
    "\n"
   ]
  },
  {
   "cell_type": "code",
   "execution_count": 6,
   "metadata": {},
   "outputs": [
    {
     "name": "stdout",
     "output_type": "stream",
     "text": [
      "tên nhân viên :  Phương\n",
      "tuổi nhân viên :  20\n",
      "lương nhân viên :  15000000\n",
      "tình trạng hôn nhân:  False\n"
     ]
    }
   ],
   "source": [
    "#hàm tạo mặc định \n",
    "class NhanVien: \n",
    "  tenNhanVien=\"Phương\"\n",
    "  tuoiNhanVien=20\n",
    "  luongNhanVien=15000000\n",
    "  tinhTrangHonNhan=False\n",
    "  def chiTietNhanVien(self):\n",
    "    print(\"tên nhân viên : \", self.tenNhanVien)\n",
    "    print(\"tuổi nhân viên : \", self.tuoiNhanVien)\n",
    "    print(\"lương nhân viên : \", self.luongNhanVien)\n",
    "    print(\"tình trạng hôn nhân: \", self.tinhTrangHonNhan)\n",
    "hoa = NhanVien()\n",
    "hoa.chiTietNhanVien()\n",
    "\n"
   ]
  },
  {
   "cell_type": "code",
   "execution_count": 7,
   "metadata": {},
   "outputs": [
    {
     "name": "stdout",
     "output_type": "stream",
     "text": [
      "ID: 22433\n",
      "name:  dog\n",
      "age:  23\n"
     ]
    }
   ],
   "source": [
    "# hàm tạo có tham số \n",
    "class Animal : \n",
    "    def __init__(self, id, name , age):\n",
    "        self.id = id \n",
    "        self.name = name \n",
    "        self.age = age\n",
    "    def showInfo(self):\n",
    "        print(\"ID:\", self.id)\n",
    "        print(\"name: \", self.name)\n",
    "        print(\"age: \", self.age)\n",
    "dog = Animal(22433, \"dog\", 23)\n",
    "dog.showInfo()"
   ]
  },
  {
   "cell_type": "code",
   "execution_count": 2,
   "metadata": {},
   "outputs": [
    {
     "name": "stdout",
     "output_type": "stream",
     "text": [
      "diện tích hình tròn : 78.5\n"
     ]
    }
   ],
   "source": [
    "# từ khóa self \n",
    "class Circle : \n",
    "    area = 0 \n",
    "    def getPi(self):\n",
    "        return 3.14 \n",
    "    def calcArea(self , rad): \n",
    "        self.area = self.getPi() * rad *rad \n",
    "        print(f\"diện tích hình tròn : {self.area}\")\n",
    "cir = Circle()\n",
    "cir.calcArea(5)\n"
   ]
  },
  {
   "cell_type": "code",
   "execution_count": 5,
   "metadata": {},
   "outputs": [
    {
     "name": "stdout",
     "output_type": "stream",
     "text": [
      "ngày thứ 254 trong năm \n",
      "tháng 9 có 30 ngày\n"
     ]
    }
   ],
   "source": [
    "class Ngay : \n",
    "    def __init__(self):\n",
    "        self.day = int(input(\"nhập vào ngày : \"))\n",
    "        self.month = int(input(\"nhập vào tháng : \"))\n",
    "        self.year = int(input(\"nhập vào năm : \"))\n",
    "        self.songay = 366\n",
    "    def ngayThu(self):\n",
    "        if ((self.year % 4 == 0 and self.year % 100 != 0 )or (self.year % 100 == 0 )):\n",
    "            if (self.month == 1): \n",
    "                print(f\"ngày thứ {self.day} trong năm\")\n",
    "                print(f\"số ngày còn lại trong năm {self.songay - self.day}\")\n",
    "            elif (self.month == 2): \n",
    "                print(f\"ngày thứ {self.day + 31} trong năm\")\n",
    "                print(f\"số ngày còn lại trong năm {self.songay - (self.day + 31)}\")\n",
    "            elif (self.month == 3):\n",
    "                print(f\"ngày thứ {self.day + 31 + 29}\")\n",
    "                print(f\"số ngày còn lại trong năm {self.songay - (self.day + 31 + 29)}\")\n",
    "            elif (self.month == 4):\n",
    "                print((f\"ngày thứ {self.day + 31 + 29 + 31}\"))\n",
    "                print(f\"số ngày còn lại trong năm {self.songay - (self.day + 31 + 29 + 31)}\")\n",
    "            elif (self.month == 5):\n",
    "                print(f\"ngày thứ {self.day + 31 + 29 + 31 + 30}\")\n",
    "            elif (self.month == 6 ):\n",
    "                print(f\"ngày thứ {self.day + 31 + 29 + 31 + 30 + 31} trong năm \")\n",
    "            elif (self.month == 7):\n",
    "                print(f\"ngày thứ {self.day + 31 + 29 + 31 + 30 + 31 + 30} trong năm \")\n",
    "            elif (self.month == 8):\n",
    "                print(f\"ngày thứ {self.day + 31 + 29 + 31 + 30 + 31 + 30 + 31} trong năm \")\n",
    "            elif ( self.month == 9):\n",
    "                print(f\"ngày thứ {self.day + 31 + 29 + 31 + 30 + 31 + 30 + 31 + 31} trong năm \")\n",
    "                print(f\"số ngày còn lại trong năm {self.songay - (self.day + 31 + 29 + 31 + 30 + 31 + 30 + 31 + 31)}\")\n",
    "            elif (self.month == 10 ):\n",
    "                print(f\"ngày thứ {self.day + 31 + 29 + 31 + 30 + 31 + 30 + 31 + 31+ 30} trong năm \")\n",
    "            elif (self.month == 11):\n",
    "                print(f\"ngày thứ {self.day + 31 + 29 + 31 + 30 + 31 + 30 + 31 + 31+ 30 + 30} trong năm\")\n",
    "            elif (self.month == 12): \n",
    "                print(f\"ngày thứ {self.day + 31 + 29 + 31 + 30 + 31 + 30 + 31 + 31+ 30 + 30+ 30} trong năm \")\n",
    "\n",
    "        else :\n",
    "            if (self.month == 1):\n",
    "                print(f\"ngày thứ {self.day} trong năm\")\n",
    "            elif (self.month == 2):\n",
    "                k = 31 \n",
    "                print(f\"ngày thứ {self.day + k} trong năm\")\n",
    "            elif (self.month == 3):\n",
    "                k = 31 + 28 \n",
    "                print(f\"ngày thứ {self.day + k }\")\n",
    "            elif (self.month == 4):\n",
    "                k = 31 + 28 + 31\n",
    "                print((f\"ngày thứ {self.day + k }\"))\n",
    "            elif (self.month == 5):\n",
    "                k = 31 + 28 + 31 + 30 \n",
    "                print(f\"ngày thứ {self.day + k }\")\n",
    "            elif (self.month == 6 ):\n",
    "                k = 31 + 28 + 31 + 30 + 31 \n",
    "                print(f\"ngày thứ {self.day + k } trong năm \")\n",
    "            elif (self.month == 7):\n",
    "                k = 31 + 28 + 31 + 30 + 31 + 30 \n",
    "                print(f\"ngày thứ {self.day + k } trong năm \")\n",
    "            elif (self.month == 8):\n",
    "                k = 31 + 28 + 31 + 30 + 31 + 30 + 31  \n",
    "                print(f\"ngày thứ {self.day + 31} trong năm \")\n",
    "            elif ( self.month == 9):\n",
    "                k = 31 + 28 + 31 + 30 + 31 + 30 + 31 + 31\n",
    "                print(f\"ngày thứ {self.day + k } trong năm \")\n",
    "            elif (self.month == 10 ):\n",
    "                k = 31 + 28 + 31 + 30 + 31 + 30 + 31 + 31 + 30 \n",
    "                print(f\"ngày thứ {self.day + 30} trong năm \")\n",
    "            elif (self.month == 11):\n",
    "                k = 31 + 28 + 31 + 30 + 31 + 30 + 31 + 31 + 30  + 31 \n",
    "                print(f\"ngày thứ {self.day} trong năm\")\n",
    "            elif (self.month == 12):\n",
    "                k = 31 + 28 + 31 + 30 + 31 + 30 + 31 + 31 + 30  + 31  + 30 \n",
    "                print(f\"ngày thứ {self.day} trong năm \")\n",
    "    \n",
    "    @staticmethod \n",
    "    def ThangToNgay():\n",
    "        obj = Ngay()\n",
    "        obj.ngayThu()\n",
    "        if(obj.month == 1 or obj.month == 3 or obj.month == 5 or obj.month  == 7 or obj.month == 8 or obj.month  == 12):\n",
    "            print(f\"tháng {obj.month} có 31 ngày\")\n",
    "        elif (obj.month == 2):\n",
    "            print(f\"tháng {obj.month} có 28 ngày \")\n",
    "        else :\n",
    "            print(f\"tháng {obj.month} có 30 ngày\")\n",
    "\n",
    "\n",
    "\n",
    "\n",
    "if __name__ == \"__main__\":\n",
    "    Ngay.ThangToNgay()\n",
    "\n",
    "   "
   ]
  }
 ],
 "metadata": {
  "kernelspec": {
   "display_name": "Python 3",
   "language": "python",
   "name": "python3"
  },
  "language_info": {
   "codemirror_mode": {
    "name": "ipython",
    "version": 3
   },
   "file_extension": ".py",
   "mimetype": "text/x-python",
   "name": "python",
   "nbconvert_exporter": "python",
   "pygments_lexer": "ipython3",
   "version": "3.9.6"
  }
 },
 "nbformat": 4,
 "nbformat_minor": 2
}
