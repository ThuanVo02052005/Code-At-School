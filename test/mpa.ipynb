{
 "cells": [
  {
   "cell_type": "code",
   "execution_count": 14,
   "metadata": {},
   "outputs": [
    {
     "ename": "SyntaxError",
     "evalue": "invalid syntax (1883470261.py, line 10)",
     "output_type": "error",
     "traceback": [
      "\u001b[1;36m  Cell \u001b[1;32mIn[14], line 10\u001b[1;36m\u001b[0m\n\u001b[1;33m    return self.n * self.factorial(self.(n - 1))\u001b[0m\n\u001b[1;37m                                        ^\u001b[0m\n\u001b[1;31mSyntaxError\u001b[0m\u001b[1;31m:\u001b[0m invalid syntax\n"
     ]
    }
   ],
   "source": [
    "class Recursion: \n",
    "    def __init__(self):\n",
    "        self.n = int(input(\"nhập vào số n : \"))\n",
    "    def factorial(self):\n",
    "        if (self.n < 1 ):\n",
    "            print(\"không thể tính giai thừa \") \n",
    "        elif(self.n == 1):\n",
    "            return 1 \n",
    "        else: \n",
    "            return self.n * self.factorial(self.n))\n",
    "    # def factorial_1(self, k ):\n",
    "    #     if (k == 1 ):\n",
    "    #         return 1 \n",
    "    #     else: \n",
    "    #         return k * self.factorial_1(k - 1)\n",
    "    \n",
    "recursion = Recursion()\n"
   ]
  },
  {
   "cell_type": "code",
   "execution_count": 13,
   "metadata": {},
   "outputs": [
    {
     "name": "stdout",
     "output_type": "stream",
     "text": [
      "giá trị của 5! = 120\n"
     ]
    }
   ],
   "source": [
    "class Recursion: \n",
    "    def factorial_1(self, k ):\n",
    "        if (k == 1 ):\n",
    "            return 1 \n",
    "        else: \n",
    "            return k * self.factorial_1(k - 1)\n",
    "    \n",
    "recursion = Recursion()\n",
    "result = recursion.factorial_1(5)\n",
    "print(f\"giá trị của 5! = {result}\")"
   ]
  }
 ],
 "metadata": {
  "kernelspec": {
   "display_name": "Python 3",
   "language": "python",
   "name": "python3"
  },
  "language_info": {
   "codemirror_mode": {
    "name": "ipython",
    "version": 3
   },
   "file_extension": ".py",
   "mimetype": "text/x-python",
   "name": "python",
   "nbconvert_exporter": "python",
   "pygments_lexer": "ipython3",
   "version": "3.9.6"
  }
 },
 "nbformat": 4,
 "nbformat_minor": 2
}
