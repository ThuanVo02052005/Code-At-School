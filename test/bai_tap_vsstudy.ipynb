{
 "cells": [
  {
   "cell_type": "code",
   "execution_count": 8,
   "metadata": {},
   "outputs": [
    {
     "name": "stdout",
     "output_type": "stream",
     "text": [
      "giá trị của số number1 : 9\n",
      "giá trị của số number2 : 2\n",
      "11\n",
      "7\n",
      "18\n",
      "4.5\n"
     ]
    }
   ],
   "source": [
    "#bài 1 \n",
    "class SoHoc : \n",
    "    def __innit__(self):\n",
    "        self.number1 = None\n",
    "        self.number2 = None \n",
    "    @property\n",
    "    def inputInfo(self):\n",
    "        self.number1 = int(input(\"nhập vào số nguyên : \"))\n",
    "        self.number2 = int(input(\"nhập vào số nguyên : \"))\n",
    "    def printInfo(self):\n",
    "        print(f\"giá trị của số number1 : {self.number1}\")\n",
    "        print(f\"giá trị của số number2 : {self.number2}\")\n",
    "    def addition(self):\n",
    "        return self.number1 + self.number2\n",
    "    def subtract(self):\n",
    "        return self.number1 - self.number2 \n",
    "    def multi(self):\n",
    "        return self.number1 * self.number2 \n",
    "    def division(self):\n",
    "        return self.number1 / self.number2 \n",
    "def thuThi():\n",
    "    sohoc = SoHoc()\n",
    "    sohoc.inputInfo\n",
    "    sohoc.printInfo()\n",
    "    print(sohoc.addition())\n",
    "    print(sohoc.subtract())\n",
    "    print(sohoc.multi())\n",
    "    print(sohoc.division())\n",
    "if __name__ == \"__main__\":\n",
    "    thuThi()\n",
    "    \n",
    "     \n",
    "\n"
   ]
  },
  {
   "cell_type": "code",
   "execution_count": 5,
   "metadata": {},
   "outputs": [
    {
     "name": "stdout",
     "output_type": "stream",
     "text": [
      "phương thức setter đã được gọi\n",
      "phương thức getter đã được gọi \n",
      "19\n"
     ]
    }
   ],
   "source": [
    "class SoHoc1: \n",
    "    def __init__(self):\n",
    "        self._number1 = None\n",
    "        self._number2 = None \n",
    "    @property \n",
    "    def number(self ):\n",
    "        print(\"phương thức getter đã được gọi \")\n",
    "        return self._number1 \n",
    "    @number.setter \n",
    "    def number(self, a):\n",
    "        print('phương thức setter đã được gọi')\n",
    "        self._number1 = a\n",
    "        \n",
    "    @property \n",
    "    def add(self):\n",
    "        return self._number2 \n",
    "    @add.setter \n",
    "    def add(self, b):\n",
    "        \n",
    "        self._number2 = b\n",
    "         \n",
    "if __name__ == \"__main__\":\n",
    "    stu = SoHoc1()\n",
    "    stu.number = 19 \n",
    "    print(stu.number)\n",
    "\n",
    "\n",
    "    "
   ]
  },
  {
   "cell_type": "code",
   "execution_count": null,
   "metadata": {},
   "outputs": [],
   "source": []
  },
  {
   "cell_type": "code",
   "execution_count": 4,
   "metadata": {},
   "outputs": [
    {
     "name": "stdout",
     "output_type": "stream",
     "text": [
      "phương thức setter đã được gọi\n",
      "phương thức getter đã được gọi\n",
      "19\n",
      "24\n"
     ]
    }
   ],
   "source": [
    "class SoHoc1: \n",
    "    def __init__(self):\n",
    "        self._number1 = None\n",
    "        self._number2 = None \n",
    "\n",
    "    @property \n",
    "    def number(self):\n",
    "        print(\"phương thức getter đã được gọi\")\n",
    "        return self._number1 \n",
    "\n",
    "    @number.setter \n",
    "    def number(self, a):\n",
    "        print('phương thức setter đã được gọi')\n",
    "        self._number1 = a\n",
    "        \n",
    "    @property \n",
    "    def add(self):\n",
    "        return self._number1 + self._number2 \n",
    "\n",
    "    @add.setter \n",
    "    def add(self, b):\n",
    "        self._number2 = b\n",
    "\n",
    "if __name__ == \"__main__\":\n",
    "    stu = SoHoc1()\n",
    "    stu.number = 19 \n",
    "    stu.add = int(input(\"nhập vào số nguyên: \"))\n",
    "    print(stu.number)\n",
    "    print(stu.add)\n"
   ]
  },
  {
   "cell_type": "code",
   "execution_count": 1,
   "metadata": {},
   "outputs": [
    {
     "name": "stdout",
     "output_type": "stream",
     "text": [
      "setter method called\n",
      "getter method called\n",
      "19\n",
      "Xóa thuộc tính _age!\n"
     ]
    }
   ],
   "source": [
    "class Student:\n",
    "    def __init__(self):\n",
    "        self._age = 0\n",
    "\n",
    "    @property  # decorate phương thức getter\n",
    "    def age(self):\n",
    "        print(\"getter method called\")\n",
    "        return self._age\n",
    "\n",
    "    @age.setter  # decorate phương thức setter\n",
    "    def age(self, a):\n",
    "        if a < 18:\n",
    "            raise ValueError(\"Sorry you age is below eligibility criteria\")\n",
    "        print(\"setter method called\")\n",
    "        self._age = a\n",
    "\n",
    "    @age.deleter  # decorate phương thức deleter\n",
    "    def age(self):\n",
    "        print(\"Xóa thuộc tính _age!\")\n",
    "        del self._age\n",
    "\n",
    "stu = Student()\n",
    "\n",
    "stu.age = 19  # gọi setter\n",
    "\n",
    "print(stu.age)  # gọi getter\n",
    "\n",
    "del stu.age  # gọi deleter\n"
   ]
  },
  {
   "cell_type": "code",
   "execution_count": 6,
   "metadata": {},
   "outputs": [
    {
     "name": "stdout",
     "output_type": "stream",
     "text": [
      "tên của nhân viên : hoa\n",
      "tuổi của nhân viên : 18\n",
      "địa chỉ của nhân viên : nguyễn văn cừ\n",
      "tiền lương của nhân viên : 200000.0\n",
      "tổng thời gian làm viêc: 800.0\n",
      "số tiền thưởng nhân viên được nhận : 40000.0\n",
      "tên của nhân viên : huy\n",
      "tuổi của nhân viên : 19\n",
      "địa chỉ của nhân viên : hoang hoa tham\n",
      "tiền lương của nhân viên : 700000.0\n",
      "tổng thời gian làm viêc: 600.0\n",
      "số tiền thưởng nhân viên được nhận : 140000.0\n"
     ]
    }
   ],
   "source": [
    "# bài 2 \n",
    "class NhanVien():\n",
    "    def __init__(self):\n",
    "        self.ten = None \n",
    "        self.tuoi = None \n",
    "        self.dia_chi = None \n",
    "        self.tien_luong = None \n",
    "        self.time = None \n",
    "    def inputInfo(self):\n",
    "        self.ten = input('nhập vào tên nhân viên: ')\n",
    "        self.tuoi = int(input(\"nhập vào tuổi: \"))\n",
    "        self.dia_chi = input(\"nhập vào địa chỉ : \")\n",
    "        self.tien_luong = float(input(\"nhập vào tiền lương : \"))\n",
    "        self.time = float(input(\"nhập vào tổng số giờ làm việc : \"))\n",
    "    def printInfo(self):\n",
    "        print(f\"tên của nhân viên : {self.ten}\")\n",
    "        print(f\"tuổi của nhân viên : {self.tuoi}\")\n",
    "        print(f\"địa chỉ của nhân viên : {self.dia_chi}\")\n",
    "        print(f\"tiền lương của nhân viên : {self.tien_luong}\")\n",
    "        print(f\"tổng thời gian làm viêc: {self.time}\")\n",
    "    def tienThuong(self):\n",
    "        if (self.time >= 200):\n",
    "            return self.tien_luong * 0.2 \n",
    "        elif (self.time < 200 and self.time >= 100):\n",
    "            return self.tien_luong * 0.1 \n",
    "        else : \n",
    "            return 0 \n",
    "def thucThi1():\n",
    "    for i in range(0 , 2):\n",
    "        obj = NhanVien()\n",
    "        obj.inputInfo()\n",
    "        obj.printInfo()\n",
    "        print(f\"số tiền thưởng nhân viên được nhận : {obj.tienThuong()}\")\n",
    "if __name__ == \"__main__\":\n",
    "    thucThi1()\n",
    "        "
   ]
  },
  {
   "cell_type": "code",
   "execution_count": 4,
   "metadata": {},
   "outputs": [
    {
     "name": "stdout",
     "output_type": "stream",
     "text": [
      "thông tin của sinh viên : \n",
      "mã sinh viên : 23010427\n",
      "điểm trung bình của sinh viên : 9.4\n",
      "tuổi của sinh viên : 19\n",
      "lớp của sinh viên : AI&KHDL\n",
      "sinh viên được học bổng \n",
      "thông tin của sinh viên : \n",
      "mã sinh viên : 23010427\n",
      "điểm trung bình của sinh viên : 8.0\n",
      "tuổi của sinh viên : 19\n",
      "lớp của sinh viên : AI\n",
      "sinh viên không được học bổng \n",
      "Thời gian thực thi: 23.0367847 giây\n"
     ]
    }
   ],
   "source": [
    "# bài 3 \n",
    "import timeit \n",
    "class Student:\n",
    "    def __init__(self):\n",
    "        self.msv = None \n",
    "        self.average_point = None\n",
    "        self.age = None \n",
    "        self.lop = None \n",
    "    def inputInfo(self):\n",
    "        self.msv = input(\"nhập vào mã sinh viên có 8 kí tự : \")\n",
    "        while (len(self.msv) != 8):\n",
    "            self.msv = input(\"nhập vào mã sinh viên có 8 kí tự : \")\n",
    "        self.average_point = float(input(\"nhập vào điểm trung bình: \"))\n",
    "        while (self.average_point < 0 or self.average_point > 10 ):\n",
    "            self.average_point = float(input(\"nhập vào điểm trung bình: \"))\n",
    "        self.age = int(input(\"nhập vào tuổi : \"))\n",
    "        while (self.age < 18):\n",
    "            self.age = int(input(\"nhập vào tuổi : \"))\n",
    "        self.lop = input(\"nhập vào lớp : \")\n",
    "        while not(self.lop.startswith(\"A\") or self.lop.startswith(\"C\")):\n",
    "            self.lop = input(\"nhập vào lớp : \")\n",
    "    def showInfo(self):\n",
    "        print(f\"mã sinh viên : {self.msv}\")\n",
    "        print(f\"điểm trung bình của sinh viên : {self.average_point}\")\n",
    "        print(f\"tuổi của sinh viên : {self.age}\")\n",
    "        print(f\"lớp của sinh viên : {self.lop}\")\n",
    "    def scholarship(self):\n",
    "        if ( self.average_point > 8 ):\n",
    "            print(\"sinh viên được học bổng \")\n",
    "        else : \n",
    "            print(\"sinh viên không được học bổng \")\n",
    "def ThucThi2():\n",
    "    for i in range(0 , 1, 1):\n",
    "        obj = Student()\n",
    "        obj.inputInfo()\n",
    "        print(\"thông tin của sinh viên : \")\n",
    "        obj.showInfo()\n",
    "        obj.scholarship()\n",
    "if __name__ == \"__main__\":\n",
    "    ThucThi2()\n",
    "    execution_time = timeit.timeit(\"ThucThi2()\", setup=\"from __main__ import ThucThi2\", number=1)\n",
    "    print(f\"Thời gian thực thi: {execution_time} giây\")\n",
    "\n",
    "    \n"
   ]
  },
  {
   "cell_type": "code",
   "execution_count": 6,
   "metadata": {},
   "outputs": [
    {
     "name": "stdout",
     "output_type": "stream",
     "text": [
      "thông tin của sinh viên : \n",
      "mã sinh viên : 23010427\n",
      "điểm trung bình của sinh viên : 9.0\n",
      "tuổi của sinh viên : 19\n",
      "lớp của sinh viên : AI\n",
      "sinh viên được học bổng \n"
     ]
    }
   ],
   "source": [
    "# bài 3 \n",
    "import timeit \n",
    "class Student:\n",
    "    def __init__(self):\n",
    "        self.msv = None \n",
    "        self.average_point = None\n",
    "        self.age = None \n",
    "        self.lop = None \n",
    "    def inputInfo(self):\n",
    "        self.msv = input(\"nhập vào mã sinh viên có 8 kí tự : \")\n",
    "        while (len(self.msv) != 8):\n",
    "            self.msv = input(\"nhập vào mã sinh viên có 8 kí tự : \")\n",
    "        self.average_point = float(input(\"nhập vào điểm trung bình: \"))\n",
    "        while (self.average_point < 0 or self.average_point > 10 ):\n",
    "            self.average_point = float(input(\"nhập vào điểm trung bình: \"))\n",
    "        self.age = int(input(\"nhập vào tuổi : \"))\n",
    "        while (self.age < 18):\n",
    "            self.age = int(input(\"nhập vào tuổi : \"))\n",
    "        self.lop = input(\"nhập vào lớp : \")\n",
    "        while not(self.lop.startswith(\"A\") or self.lop.startswith(\"C\")):\n",
    "            self.lop = input(\"nhập vào lớp : \")\n",
    "    def showInfo(self):\n",
    "        print(f\"mã sinh viên : {self.msv}\")\n",
    "        print(f\"điểm trung bình của sinh viên : {self.average_point}\")\n",
    "        print(f\"tuổi của sinh viên : {self.age}\")\n",
    "        print(f\"lớp của sinh viên : {self.lop}\")\n",
    "    def scholarship(self):\n",
    "        if ( self.average_point > 8 ):\n",
    "            print(\"sinh viên được học bổng \")\n",
    "        else : \n",
    "            print(\"sinh viên không được học bổng \")\n",
    "def ThucThi2():\n",
    "    for i in range(0 , 1, 1):\n",
    "        obj = Student()\n",
    "        obj.inputInfo()\n",
    "        print(\"thông tin của sinh viên : \")\n",
    "        obj.showInfo()\n",
    "        obj.scholarship()\n",
    "if __name__ == \"__main__\":\n",
    "    ThucThi2()\n",
    " \n"
   ]
  },
  {
   "cell_type": "code",
   "execution_count": null,
   "metadata": {},
   "outputs": [],
   "source": [
    "# bài 4 \n",
    "class Scholarship : \n",
    "    def __init__(self):\n",
    "        self.a = input(\"học viên đã đăng ký khóa học HDSE chưa: \")\n",
    "        self.b = float(input(\"nhập vào điểm tổng kết : \"))\n",
    "        self.c = input(\"có vi phạm nội quy hay không : \")\n",
    "        self.d = int(input(\"số lần thi : \"))\n",
    "    def hocBong(self):\n",
    "        "
   ]
  },
  {
   "cell_type": "code",
   "execution_count": 4,
   "metadata": {},
   "outputs": [
    {
     "ename": "TypeError",
     "evalue": "'module' object is not callable",
     "output_type": "error",
     "traceback": [
      "\u001b[1;31m---------------------------------------------------------------------------\u001b[0m",
      "\u001b[1;31mTypeError\u001b[0m                                 Traceback (most recent call last)",
      "Cell \u001b[1;32mIn[4], line 1\u001b[0m\n\u001b[1;32m----> 1\u001b[0m \u001b[38;5;28;01mfrom\u001b[39;00m \u001b[38;5;21;01mtkinter\u001b[39;00m \u001b[38;5;28;01mimport\u001b[39;00m\u001b[38;5;241m*\u001b[39m \n\u001b[0;32m      2\u001b[0m \u001b[38;5;28;01mimport\u001b[39;00m \u001b[38;5;21;01mtkinter\u001b[39;00m \u001b[38;5;28;01mas\u001b[39;00m \u001b[38;5;21;01mtk\u001b[39;00m \n\u001b[0;32m      3\u001b[0m win \u001b[38;5;241m=\u001b[39m Tk()\n",
      "File \u001b[1;32mc:\\Users\\PC\\OneDrive\\Desktop\\Web_swaring\\test\\tkinter.py:3\u001b[0m\n\u001b[0;32m      1\u001b[0m \u001b[38;5;28;01mfrom\u001b[39;00m \u001b[38;5;21;01mtkinter\u001b[39;00m \u001b[38;5;28;01mimport\u001b[39;00m \u001b[38;5;241m*\u001b[39m \n\u001b[0;32m      2\u001b[0m \u001b[38;5;28;01mimport\u001b[39;00m \u001b[38;5;21;01mtkinter\u001b[39;00m \u001b[38;5;28;01mas\u001b[39;00m \u001b[38;5;21;01mTk\u001b[39;00m \n\u001b[1;32m----> 3\u001b[0m win \u001b[38;5;241m=\u001b[39m \u001b[43mTk\u001b[49m\u001b[43m(\u001b[49m\u001b[43m)\u001b[49m\n\u001b[0;32m      4\u001b[0m win\u001b[38;5;241m.\u001b[39mmainloop()\n",
      "\u001b[1;31mTypeError\u001b[0m: 'module' object is not callable"
     ]
    }
   ],
   "source": []
  }
 ],
 "metadata": {
  "kernelspec": {
   "display_name": "Python 3",
   "language": "python",
   "name": "python3"
  },
  "language_info": {
   "codemirror_mode": {
    "name": "ipython",
    "version": 3
   },
   "file_extension": ".py",
   "mimetype": "text/x-python",
   "name": "python",
   "nbconvert_exporter": "python",
   "pygments_lexer": "ipython3",
   "version": "3.9.6"
  }
 },
 "nbformat": 4,
 "nbformat_minor": 2
}
